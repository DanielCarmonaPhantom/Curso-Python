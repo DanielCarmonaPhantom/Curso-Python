{
 "cells": [
  {
   "cell_type": "markdown",
   "metadata": {},
   "source": [
    "# Clase 3 - Ciclos"
   ]
  },
  {
   "cell_type": "markdown",
   "metadata": {},
   "source": [
    "## Ciclo While"
   ]
  },
  {
   "cell_type": "code",
   "execution_count": null,
   "metadata": {},
   "outputs": [],
   "source": [
    "n = int(input(\"Dame n cali\"))\n",
    "\n",
    "calificaciones = []\n",
    "\n",
    "for i in range(n):\n",
    "    \n",
    "    calificacion = int(input(f\"Dame la calificación {i+1}\"))\n",
    "    \n",
    "    calificaciones.append(calificacion)\n",
    "    \n",
    "promedio = sum(calificaciones) / len(calificaciones)\n",
    "\n",
    "if promedio >=6:\n",
    "    print(f\"Felicidades, obtuviste {promedio} y aprobaste el semestre\")\n",
    "else:\n",
    "    print(\"F\")  "
   ]
  },
  {
   "cell_type": "code",
   "execution_count": null,
   "metadata": {},
   "outputs": [],
   "source": []
  }
 ],
 "metadata": {
  "kernelspec": {
   "display_name": "Python 3.11.0 64-bit",
   "language": "python",
   "name": "python3"
  },
  "language_info": {
   "name": "python",
   "version": "3.11.0"
  },
  "orig_nbformat": 4,
  "vscode": {
   "interpreter": {
    "hash": "a34d6c5596e8f0fe3ccb31a2ba88741da5b50cb7bc045f0a73cd34a9ddc67473"
   }
  }
 },
 "nbformat": 4,
 "nbformat_minor": 2
}
