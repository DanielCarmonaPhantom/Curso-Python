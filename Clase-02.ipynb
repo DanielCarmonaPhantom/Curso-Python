{
 "cells": [
  {
   "cell_type": "markdown",
   "metadata": {},
   "source": [
    "# Clase 2 "
   ]
  },
  {
   "cell_type": "code",
   "execution_count": null,
   "metadata": {},
   "outputs": [],
   "source": [
    "num1 = int(input(\"num1\"))\n",
    "num2 = int(input(\"num2\"))\n",
    "\n",
    "if num1 > num2:\n",
    "    print(f\"{num1} es el mayor\")\n",
    "elif num2 > num1:\n",
    "    print(f\"{num2} es el mayor\")      \n",
    "else:\n",
    "    print(\"Ambos son iguales\")"
   ]
  },
  {
   "cell_type": "code",
   "execution_count": 4,
   "metadata": {},
   "outputs": [
    {
     "name": "stdout",
     "output_type": "stream",
     "text": [
      "El trabajador va a recibir $740\n"
     ]
    }
   ],
   "source": [
    "cantidad_horas = int(input(\"Horas trabajadas\"))\n",
    "sueldo = int(input(\"sueldo\"))\n",
    "\n",
    "if cantidad_horas>=50:\n",
    "    horas = (cantidad_horas - 50)*3 + 20 + 39\n",
    "elif cantidad_horas >= 40:\n",
    "    horas = (cantidad_horas-40)*2 + 39\n",
    "else:\n",
    "    horas = cantidad_horas\n",
    "    \n",
    "pago = horas * sueldo\n",
    "\n",
    "print(f\"El trabajador va a recibir ${pago}\")\n",
    "\n"
   ]
  },
  {
   "cell_type": "markdown",
   "metadata": {},
   "source": [
    "## Listas"
   ]
  },
  {
   "cell_type": "code",
   "execution_count": null,
   "metadata": {},
   "outputs": [],
   "source": []
  },
  {
   "cell_type": "markdown",
   "metadata": {},
   "source": [
    "$$\\frac{1}{2}\\sum_{i=0}^{n}x_{i}$$"
   ]
  },
  {
   "cell_type": "markdown",
   "metadata": {},
   "source": []
  }
 ],
 "metadata": {
  "kernelspec": {
   "display_name": "Python 3.11.0 64-bit",
   "language": "python",
   "name": "python3"
  },
  "language_info": {
   "codemirror_mode": {
    "name": "ipython",
    "version": 3
   },
   "file_extension": ".py",
   "mimetype": "text/x-python",
   "name": "python",
   "nbconvert_exporter": "python",
   "pygments_lexer": "ipython3",
   "version": "3.11.0"
  },
  "orig_nbformat": 4,
  "vscode": {
   "interpreter": {
    "hash": "a34d6c5596e8f0fe3ccb31a2ba88741da5b50cb7bc045f0a73cd34a9ddc67473"
   }
  }
 },
 "nbformat": 4,
 "nbformat_minor": 2
}
